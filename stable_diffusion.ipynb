{
  "nbformat": 4,
  "nbformat_minor": 0,
  "metadata": {
    "colab": {
      "provenance": [],
      "gpuType": "T4"
    },
    "kernelspec": {
      "name": "python3",
      "display_name": "Python 3"
    },
    "language_info": {
      "name": "python"
    },
    "accelerator": "GPU"
  },
  "cells": [
    {
      "cell_type": "code",
      "execution_count": null,
      "metadata": {
        "id": "rOhWy08_qa5u"
      },
      "outputs": [],
      "source": [
        "!pip install diffusers[\"torch\"] transformers accelerate\n",
        "!pip install git+https://github.com/Stability-AI/StableCascade"
      ]
    },
    {
      "cell_type": "code",
      "source": [
        "import torch\n",
        "from diffusers import (\n",
        "    StableCascadeDecoderPipeline,\n",
        "    StableCascadePriorPipeline,\n",
        "    StableCascadeUNet,\n",
        ")\n",
        "\n",
        "prompt = \"an image of a shiba inu, donning a spacesuit and helmet\"\n",
        "negative_prompt = \"\"\n",
        "\n",
        "prior_unet = StableCascadeUNet.from_pretrained(\"stabilityai/stable-cascade-prior\", subfolder=\"prior_lite\")\n",
        "decoder_unet = StableCascadeUNet.from_pretrained(\"stabilityai/stable-cascade\", subfolder=\"decoder_lite\")\n",
        "\n",
        "prior = StableCascadePriorPipeline.from_pretrained(\"stabilityai/stable-cascade-prior\", prior=prior_unet)\n",
        "decoder = StableCascadeDecoderPipeline.from_pretrained(\"stabilityai/stable-cascade\", decoder=decoder_unet)\n",
        "\n",
        "prior.enable_model_cpu_offload()\n",
        "prior_output = prior(\n",
        "    prompt=prompt,\n",
        "    height=1024,\n",
        "    width=1024,\n",
        "    negative_prompt=negative_prompt,\n",
        "    guidance_scale=4.0,\n",
        "    num_images_per_prompt=1,\n",
        "    num_inference_steps=20\n",
        ")\n",
        "\n",
        "decoder.enable_model_cpu_offload()\n",
        "decoder_output = decoder(\n",
        "    image_embeddings=prior_output.image_embeddings,\n",
        "    prompt=prompt,\n",
        "    negative_prompt=negative_prompt,\n",
        "    guidance_scale=0.0,\n",
        "    output_type=\"pil\",\n",
        "    num_inference_steps=10\n",
        ").images[0]\n",
        "decoder_output.save(\"cascade.png\")"
      ],
      "metadata": {
        "id": "_E-aKzKcr5WY"
      },
      "execution_count": null,
      "outputs": []
    }
  ]
}